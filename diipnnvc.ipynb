{
 "cells": [
  {
   "cell_type": "code",
   "execution_count": 1,
   "id": "aafd1933",
   "metadata": {
    "_cell_guid": "b1076dfc-b9ad-4769-8c92-a6c4dae69d19",
    "_uuid": "8f2839f25d086af736a60e9eeb907d3b93b6e0e5",
    "execution": {
     "iopub.execute_input": "2022-07-06T08:04:36.597389Z",
     "iopub.status.busy": "2022-07-06T08:04:36.596866Z",
     "iopub.status.idle": "2022-07-06T08:04:36.611813Z",
     "shell.execute_reply": "2022-07-06T08:04:36.610686Z"
    },
    "papermill": {
     "duration": 0.025143,
     "end_time": "2022-07-06T08:04:36.614221",
     "exception": false,
     "start_time": "2022-07-06T08:04:36.589078",
     "status": "completed"
    },
    "tags": []
   },
   "outputs": [
    {
     "name": "stdout",
     "output_type": "stream",
     "text": [
      "[1, 3, 5, 7, 9, 11, 13, 15, 17, 19, 21, 23, 25, 27, 29, 31, 33, 35, 37, 39, 41, 43, 45, 47, 49, 51, 53, 55, 57, 59, 61, 63, 65, 67, 69, 71, 73, 75, 77, 79, 81]\n"
     ]
    }
   ],
   "source": [
    "data = [1, 3, 5, 7, 9, 11, 13, 15, 17, 19, 21, 23, 25, 27, 29, 31, 33, 35, 37, 39, 41, 43, 45, 47, 49, 51, 53, 55, 57, 59, 61, 63, 65, 67, 69, 71, 73, 75, 77, 79, 81]\n",
    "print(data)"
   ]
  },
  {
   "cell_type": "code",
   "execution_count": 2,
   "id": "847745a4",
   "metadata": {
    "execution": {
     "iopub.execute_input": "2022-07-06T08:04:36.626725Z",
     "iopub.status.busy": "2022-07-06T08:04:36.625980Z",
     "iopub.status.idle": "2022-07-06T08:04:36.634459Z",
     "shell.execute_reply": "2022-07-06T08:04:36.633416Z"
    },
    "papermill": {
     "duration": 0.017432,
     "end_time": "2022-07-06T08:04:36.636984",
     "exception": false,
     "start_time": "2022-07-06T08:04:36.619552",
     "status": "completed"
    },
    "tags": []
   },
   "outputs": [],
   "source": [
    "import numpy as np\n",
    "def splitSequence(seq, n_steps):\n",
    "    \n",
    "    #Declare X and y as empty list\n",
    "    X = []\n",
    "    y = []\n",
    "    \n",
    "    for i in range(len(seq)):\n",
    "        #get the last index\n",
    "        lastIndex = i + n_steps\n",
    "        \n",
    "        #if lastIndex is greater than length of sequence then break\n",
    "        if lastIndex > len(seq) - 1:\n",
    "            break\n",
    "            \n",
    "        #Create input and output sequence\n",
    "        seq_X, seq_y = seq[i:lastIndex], seq[lastIndex]\n",
    "        \n",
    "        #append seq_X, seq_y in X and y list\n",
    "        X.append(seq_X)\n",
    "        y.append(seq_y)\n",
    "        pass\n",
    "    #Convert X and y into numpy array\n",
    "    X = np.array(X)\n",
    "    y = np.array(y)\n",
    "    \n",
    "    return X,y \n",
    "    \n",
    "    pass"
   ]
  },
  {
   "cell_type": "code",
   "execution_count": 3,
   "id": "07ff40d6",
   "metadata": {
    "execution": {
     "iopub.execute_input": "2022-07-06T08:04:36.649024Z",
     "iopub.status.busy": "2022-07-06T08:04:36.648661Z",
     "iopub.status.idle": "2022-07-06T08:04:36.653798Z",
     "shell.execute_reply": "2022-07-06T08:04:36.652958Z"
    },
    "papermill": {
     "duration": 0.013369,
     "end_time": "2022-07-06T08:04:36.655672",
     "exception": false,
     "start_time": "2022-07-06T08:04:36.642303",
     "status": "completed"
    },
    "tags": []
   },
   "outputs": [],
   "source": [
    "n_steps = 5\n",
    "X, y = splitSequence(data, n_steps = 5)"
   ]
  },
  {
   "cell_type": "code",
   "execution_count": 4,
   "id": "f921bc6c",
   "metadata": {
    "execution": {
     "iopub.execute_input": "2022-07-06T08:04:36.667831Z",
     "iopub.status.busy": "2022-07-06T08:04:36.667142Z",
     "iopub.status.idle": "2022-07-06T08:04:36.674203Z",
     "shell.execute_reply": "2022-07-06T08:04:36.673391Z"
    },
    "papermill": {
     "duration": 0.016075,
     "end_time": "2022-07-06T08:04:36.676876",
     "exception": false,
     "start_time": "2022-07-06T08:04:36.660801",
     "status": "completed"
    },
    "tags": []
   },
   "outputs": [
    {
     "name": "stdout",
     "output_type": "stream",
     "text": [
      "[[ 1  3  5  7  9]\n",
      " [ 3  5  7  9 11]\n",
      " [ 5  7  9 11 13]\n",
      " [ 7  9 11 13 15]\n",
      " [ 9 11 13 15 17]\n",
      " [11 13 15 17 19]\n",
      " [13 15 17 19 21]\n",
      " [15 17 19 21 23]\n",
      " [17 19 21 23 25]\n",
      " [19 21 23 25 27]\n",
      " [21 23 25 27 29]\n",
      " [23 25 27 29 31]\n",
      " [25 27 29 31 33]\n",
      " [27 29 31 33 35]\n",
      " [29 31 33 35 37]\n",
      " [31 33 35 37 39]\n",
      " [33 35 37 39 41]\n",
      " [35 37 39 41 43]\n",
      " [37 39 41 43 45]\n",
      " [39 41 43 45 47]\n",
      " [41 43 45 47 49]\n",
      " [43 45 47 49 51]\n",
      " [45 47 49 51 53]\n",
      " [47 49 51 53 55]\n",
      " [49 51 53 55 57]\n",
      " [51 53 55 57 59]\n",
      " [53 55 57 59 61]\n",
      " [55 57 59 61 63]\n",
      " [57 59 61 63 65]\n",
      " [59 61 63 65 67]\n",
      " [61 63 65 67 69]\n",
      " [63 65 67 69 71]\n",
      " [65 67 69 71 73]\n",
      " [67 69 71 73 75]\n",
      " [69 71 73 75 77]\n",
      " [71 73 75 77 79]]\n"
     ]
    }
   ],
   "source": [
    "print(X)\n"
   ]
  },
  {
   "cell_type": "code",
   "execution_count": 5,
   "id": "76b3e1e6",
   "metadata": {
    "execution": {
     "iopub.execute_input": "2022-07-06T08:04:36.690091Z",
     "iopub.status.busy": "2022-07-06T08:04:36.689368Z",
     "iopub.status.idle": "2022-07-06T08:04:36.694868Z",
     "shell.execute_reply": "2022-07-06T08:04:36.693573Z"
    },
    "papermill": {
     "duration": 0.014497,
     "end_time": "2022-07-06T08:04:36.697205",
     "exception": false,
     "start_time": "2022-07-06T08:04:36.682708",
     "status": "completed"
    },
    "tags": []
   },
   "outputs": [
    {
     "name": "stdout",
     "output_type": "stream",
     "text": [
      "[11 13 15 17 19 21 23 25 27 29 31 33 35 37 39 41 43 45 47 49 51 53 55 57\n",
      " 59 61 63 65 67 69 71 73 75 77 79 81]\n"
     ]
    }
   ],
   "source": [
    "print(y)"
   ]
  },
  {
   "cell_type": "code",
   "execution_count": 6,
   "id": "35250b92",
   "metadata": {
    "execution": {
     "iopub.execute_input": "2022-07-06T08:04:36.709662Z",
     "iopub.status.busy": "2022-07-06T08:04:36.709256Z",
     "iopub.status.idle": "2022-07-06T08:04:36.717856Z",
     "shell.execute_reply": "2022-07-06T08:04:36.716564Z"
    },
    "papermill": {
     "duration": 0.01814,
     "end_time": "2022-07-06T08:04:36.720619",
     "exception": false,
     "start_time": "2022-07-06T08:04:36.702479",
     "status": "completed"
    },
    "tags": []
   },
   "outputs": [
    {
     "name": "stdout",
     "output_type": "stream",
     "text": [
      "[1 3 5 7 9] 11\n",
      "[ 3  5  7  9 11] 13\n",
      "[ 5  7  9 11 13] 15\n",
      "[ 7  9 11 13 15] 17\n",
      "[ 9 11 13 15 17] 19\n",
      "[11 13 15 17 19] 21\n",
      "[13 15 17 19 21] 23\n",
      "[15 17 19 21 23] 25\n",
      "[17 19 21 23 25] 27\n",
      "[19 21 23 25 27] 29\n",
      "[21 23 25 27 29] 31\n",
      "[23 25 27 29 31] 33\n",
      "[25 27 29 31 33] 35\n",
      "[27 29 31 33 35] 37\n",
      "[29 31 33 35 37] 39\n",
      "[31 33 35 37 39] 41\n",
      "[33 35 37 39 41] 43\n",
      "[35 37 39 41 43] 45\n",
      "[37 39 41 43 45] 47\n",
      "[39 41 43 45 47] 49\n",
      "[41 43 45 47 49] 51\n",
      "[43 45 47 49 51] 53\n",
      "[45 47 49 51 53] 55\n",
      "[47 49 51 53 55] 57\n",
      "[49 51 53 55 57] 59\n",
      "[51 53 55 57 59] 61\n",
      "[53 55 57 59 61] 63\n",
      "[55 57 59 61 63] 65\n",
      "[57 59 61 63 65] 67\n",
      "[59 61 63 65 67] 69\n",
      "[61 63 65 67 69] 71\n",
      "[63 65 67 69 71] 73\n",
      "[65 67 69 71 73] 75\n",
      "[67 69 71 73 75] 77\n",
      "[69 71 73 75 77] 79\n",
      "[71 73 75 77 79] 81\n"
     ]
    }
   ],
   "source": [
    "for i in range(len(X)):\n",
    "    print(X[i], y[i])"
   ]
  },
  {
   "cell_type": "code",
   "execution_count": 7,
   "id": "9a9ecd42",
   "metadata": {
    "execution": {
     "iopub.execute_input": "2022-07-06T08:04:36.733523Z",
     "iopub.status.busy": "2022-07-06T08:04:36.732819Z",
     "iopub.status.idle": "2022-07-06T08:04:36.740138Z",
     "shell.execute_reply": "2022-07-06T08:04:36.738888Z"
    },
    "papermill": {
     "duration": 0.016575,
     "end_time": "2022-07-06T08:04:36.742616",
     "exception": false,
     "start_time": "2022-07-06T08:04:36.726041",
     "status": "completed"
    },
    "tags": []
   },
   "outputs": [
    {
     "name": "stdout",
     "output_type": "stream",
     "text": [
      "[[[ 1]\n",
      "  [ 3]\n",
      "  [ 5]\n",
      "  [ 7]\n",
      "  [ 9]]\n",
      "\n",
      " [[ 3]\n",
      "  [ 5]\n",
      "  [ 7]\n",
      "  [ 9]\n",
      "  [11]]]\n"
     ]
    }
   ],
   "source": [
    "# reshape `\n",
    "n_features = 1\n",
    "X = X.reshape((X.shape[0], X.shape[1], n_features))\n",
    "print(X[:2])"
   ]
  },
  {
   "cell_type": "code",
   "execution_count": 8,
   "id": "c30bba2d",
   "metadata": {
    "execution": {
     "iopub.execute_input": "2022-07-06T08:04:36.756102Z",
     "iopub.status.busy": "2022-07-06T08:04:36.755343Z",
     "iopub.status.idle": "2022-07-06T08:04:47.342338Z",
     "shell.execute_reply": "2022-07-06T08:04:47.341193Z"
    },
    "papermill": {
     "duration": 10.597144,
     "end_time": "2022-07-06T08:04:47.345226",
     "exception": false,
     "start_time": "2022-07-06T08:04:36.748082",
     "status": "completed"
    },
    "tags": []
   },
   "outputs": [],
   "source": [
    "import tensorflow as tf\n",
    "from tensorflow import keras\n",
    "from tensorflow.keras import layers"
   ]
  },
  {
   "cell_type": "code",
   "execution_count": 9,
   "id": "0463d094",
   "metadata": {
    "execution": {
     "iopub.execute_input": "2022-07-06T08:04:47.358895Z",
     "iopub.status.busy": "2022-07-06T08:04:47.358215Z",
     "iopub.status.idle": "2022-07-06T08:04:47.791552Z",
     "shell.execute_reply": "2022-07-06T08:04:47.790228Z"
    },
    "papermill": {
     "duration": 0.443587,
     "end_time": "2022-07-06T08:04:47.794394",
     "exception": false,
     "start_time": "2022-07-06T08:04:47.350807",
     "status": "completed"
    },
    "tags": []
   },
   "outputs": [
    {
     "name": "stderr",
     "output_type": "stream",
     "text": [
      "2022-07-06 08:04:47.407538: I tensorflow/core/common_runtime/process_util.cc:146] Creating new thread pool with default inter op setting: 2. Tune using inter_op_parallelism_threads for best performance.\n"
     ]
    }
   ],
   "source": [
    "model = tf.keras.Sequential()\n",
    "model.add(layers.LSTM(50, activation='relu', input_shape=(n_steps, n_features)))\n",
    "model.add(layers.Dense(1))"
   ]
  },
  {
   "cell_type": "code",
   "execution_count": 10,
   "id": "b27e3c72",
   "metadata": {
    "execution": {
     "iopub.execute_input": "2022-07-06T08:04:47.807492Z",
     "iopub.status.busy": "2022-07-06T08:04:47.807038Z",
     "iopub.status.idle": "2022-07-06T08:04:47.815916Z",
     "shell.execute_reply": "2022-07-06T08:04:47.814781Z"
    },
    "papermill": {
     "duration": 0.019531,
     "end_time": "2022-07-06T08:04:47.819558",
     "exception": false,
     "start_time": "2022-07-06T08:04:47.800027",
     "status": "completed"
    },
    "tags": []
   },
   "outputs": [
    {
     "data": {
      "text/plain": [
       "[<keras.layers.recurrent_v2.LSTM at 0x7fbb3ac75d50>,\n",
       " <keras.layers.core.Dense at 0x7fbb3ac75b10>]"
      ]
     },
     "execution_count": 10,
     "metadata": {},
     "output_type": "execute_result"
    }
   ],
   "source": [
    "model.layers"
   ]
  },
  {
   "cell_type": "code",
   "execution_count": 11,
   "id": "6c8a4149",
   "metadata": {
    "execution": {
     "iopub.execute_input": "2022-07-06T08:04:47.833317Z",
     "iopub.status.busy": "2022-07-06T08:04:47.832591Z",
     "iopub.status.idle": "2022-07-06T08:04:47.838709Z",
     "shell.execute_reply": "2022-07-06T08:04:47.837399Z"
    },
    "papermill": {
     "duration": 0.016306,
     "end_time": "2022-07-06T08:04:47.841535",
     "exception": false,
     "start_time": "2022-07-06T08:04:47.825229",
     "status": "completed"
    },
    "tags": []
   },
   "outputs": [
    {
     "name": "stdout",
     "output_type": "stream",
     "text": [
      "Model: \"sequential\"\n",
      "_________________________________________________________________\n",
      "Layer (type)                 Output Shape              Param #   \n",
      "=================================================================\n",
      "lstm (LSTM)                  (None, 50)                10400     \n",
      "_________________________________________________________________\n",
      "dense (Dense)                (None, 1)                 51        \n",
      "=================================================================\n",
      "Total params: 10,451\n",
      "Trainable params: 10,451\n",
      "Non-trainable params: 0\n",
      "_________________________________________________________________\n"
     ]
    }
   ],
   "source": [
    "model.summary()"
   ]
  },
  {
   "cell_type": "code",
   "execution_count": 12,
   "id": "e846e987",
   "metadata": {
    "execution": {
     "iopub.execute_input": "2022-07-06T08:04:47.855024Z",
     "iopub.status.busy": "2022-07-06T08:04:47.854637Z",
     "iopub.status.idle": "2022-07-06T08:04:47.870406Z",
     "shell.execute_reply": "2022-07-06T08:04:47.869222Z"
    },
    "papermill": {
     "duration": 0.025595,
     "end_time": "2022-07-06T08:04:47.873056",
     "exception": false,
     "start_time": "2022-07-06T08:04:47.847461",
     "status": "completed"
    },
    "tags": []
   },
   "outputs": [],
   "source": [
    "model.compile(optimizer=tf.keras.optimizers.Adam(0.01),\n",
    "loss=tf.keras.losses.MeanSquaredError(), metrics=['accuracy'])"
   ]
  },
  {
   "cell_type": "code",
   "execution_count": 13,
   "id": "948b6f90",
   "metadata": {
    "execution": {
     "iopub.execute_input": "2022-07-06T08:04:47.886664Z",
     "iopub.status.busy": "2022-07-06T08:04:47.886283Z",
     "iopub.status.idle": "2022-07-06T08:04:52.580662Z",
     "shell.execute_reply": "2022-07-06T08:04:52.579598Z"
    },
    "papermill": {
     "duration": 4.704004,
     "end_time": "2022-07-06T08:04:52.582878",
     "exception": false,
     "start_time": "2022-07-06T08:04:47.878874",
     "status": "completed"
    },
    "tags": []
   },
   "outputs": [
    {
     "name": "stdout",
     "output_type": "stream",
     "text": [
      "Epoch 1/200\n"
     ]
    },
    {
     "name": "stderr",
     "output_type": "stream",
     "text": [
      "2022-07-06 08:04:47.945964: I tensorflow/compiler/mlir/mlir_graph_optimization_pass.cc:185] None of the MLIR Optimization Passes are enabled (registered 2)\n"
     ]
    },
    {
     "name": "stdout",
     "output_type": "stream",
     "text": [
      "2/2 [==============================] - 2s 9ms/step - loss: 2771.8413 - accuracy: 0.0000e+00\n",
      "Epoch 2/200\n",
      "2/2 [==============================] - 0s 6ms/step - loss: 1241.5507 - accuracy: 0.0000e+00\n",
      "Epoch 3/200\n",
      "2/2 [==============================] - 0s 6ms/step - loss: 127.8370 - accuracy: 0.0000e+00\n",
      "Epoch 4/200\n",
      "2/2 [==============================] - 0s 5ms/step - loss: 30.2702 - accuracy: 0.0000e+00\n",
      "Epoch 5/200\n",
      "2/2 [==============================] - 0s 6ms/step - loss: 14.2976 - accuracy: 0.0000e+00\n",
      "Epoch 6/200\n",
      "2/2 [==============================] - 0s 6ms/step - loss: 24.2909 - accuracy: 0.0000e+00\n",
      "Epoch 7/200\n",
      "2/2 [==============================] - 0s 5ms/step - loss: 15.2934 - accuracy: 0.0000e+00\n",
      "Epoch 8/200\n",
      "2/2 [==============================] - 0s 6ms/step - loss: 11.6571 - accuracy: 0.0000e+00\n",
      "Epoch 9/200\n",
      "2/2 [==============================] - 0s 5ms/step - loss: 14.1346 - accuracy: 0.0000e+00\n",
      "Epoch 10/200\n",
      "2/2 [==============================] - 0s 6ms/step - loss: 12.6590 - accuracy: 0.0000e+00\n",
      "Epoch 11/200\n",
      "2/2 [==============================] - 0s 5ms/step - loss: 9.0984 - accuracy: 0.0000e+00\n",
      "Epoch 12/200\n",
      "2/2 [==============================] - 0s 5ms/step - loss: 7.3775 - accuracy: 0.0000e+00\n",
      "Epoch 13/200\n",
      "2/2 [==============================] - 0s 5ms/step - loss: 4.9117 - accuracy: 0.0000e+00\n",
      "Epoch 14/200\n",
      "2/2 [==============================] - 0s 6ms/step - loss: 4.2267 - accuracy: 0.0000e+00\n",
      "Epoch 15/200\n",
      "2/2 [==============================] - 0s 5ms/step - loss: 1.0560 - accuracy: 0.0000e+00\n",
      "Epoch 16/200\n",
      "2/2 [==============================] - 0s 5ms/step - loss: 3.3362 - accuracy: 0.0000e+00\n",
      "Epoch 17/200\n",
      "2/2 [==============================] - 0s 6ms/step - loss: 1.3546 - accuracy: 0.0000e+00\n",
      "Epoch 18/200\n",
      "2/2 [==============================] - 0s 6ms/step - loss: 0.6867 - accuracy: 0.0000e+00\n",
      "Epoch 19/200\n",
      "2/2 [==============================] - 0s 6ms/step - loss: 1.3119 - accuracy: 0.0000e+00\n",
      "Epoch 20/200\n",
      "2/2 [==============================] - 0s 5ms/step - loss: 0.9018 - accuracy: 0.0000e+00\n",
      "Epoch 21/200\n",
      "2/2 [==============================] - 0s 5ms/step - loss: 1.4368 - accuracy: 0.0000e+00\n",
      "Epoch 22/200\n",
      "2/2 [==============================] - 0s 6ms/step - loss: 1.0488 - accuracy: 0.0000e+00\n",
      "Epoch 23/200\n",
      "2/2 [==============================] - 0s 5ms/step - loss: 0.3819 - accuracy: 0.0000e+00\n",
      "Epoch 24/200\n",
      "2/2 [==============================] - 0s 5ms/step - loss: 0.7035 - accuracy: 0.0000e+00\n",
      "Epoch 25/200\n",
      "2/2 [==============================] - 0s 5ms/step - loss: 0.1751 - accuracy: 0.0000e+00\n",
      "Epoch 26/200\n",
      "2/2 [==============================] - 0s 6ms/step - loss: 0.4258 - accuracy: 0.0000e+00\n",
      "Epoch 27/200\n",
      "2/2 [==============================] - 0s 5ms/step - loss: 0.2667 - accuracy: 0.0000e+00\n",
      "Epoch 28/200\n",
      "2/2 [==============================] - 0s 5ms/step - loss: 0.2244 - accuracy: 0.0000e+00\n",
      "Epoch 29/200\n",
      "2/2 [==============================] - 0s 5ms/step - loss: 0.3897 - accuracy: 0.0000e+00\n",
      "Epoch 30/200\n",
      "2/2 [==============================] - 0s 6ms/step - loss: 0.1323 - accuracy: 0.0000e+00\n",
      "Epoch 31/200\n",
      "2/2 [==============================] - 0s 5ms/step - loss: 0.3017 - accuracy: 0.0000e+00\n",
      "Epoch 32/200\n",
      "2/2 [==============================] - 0s 4ms/step - loss: 0.1567 - accuracy: 0.0000e+00\n",
      "Epoch 33/200\n",
      "2/2 [==============================] - 0s 5ms/step - loss: 0.1780 - accuracy: 0.0000e+00\n",
      "Epoch 34/200\n",
      "2/2 [==============================] - 0s 5ms/step - loss: 0.1964 - accuracy: 0.0000e+00\n",
      "Epoch 35/200\n",
      "2/2 [==============================] - 0s 5ms/step - loss: 0.0962 - accuracy: 0.0000e+00\n",
      "Epoch 36/200\n",
      "2/2 [==============================] - 0s 5ms/step - loss: 0.1509 - accuracy: 0.0000e+00\n",
      "Epoch 37/200\n",
      "2/2 [==============================] - 0s 5ms/step - loss: 0.0885 - accuracy: 0.0000e+00\n",
      "Epoch 38/200\n",
      "2/2 [==============================] - 0s 5ms/step - loss: 0.0957 - accuracy: 0.0000e+00\n",
      "Epoch 39/200\n",
      "2/2 [==============================] - 0s 5ms/step - loss: 0.0622 - accuracy: 0.0000e+00\n",
      "Epoch 40/200\n",
      "2/2 [==============================] - 0s 5ms/step - loss: 0.0785 - accuracy: 0.0000e+00\n",
      "Epoch 41/200\n",
      "2/2 [==============================] - 0s 5ms/step - loss: 0.0580 - accuracy: 0.0000e+00\n",
      "Epoch 42/200\n",
      "2/2 [==============================] - 0s 6ms/step - loss: 0.0477 - accuracy: 0.0000e+00\n",
      "Epoch 43/200\n",
      "2/2 [==============================] - 0s 6ms/step - loss: 0.0379 - accuracy: 0.0000e+00\n",
      "Epoch 44/200\n",
      "2/2 [==============================] - 0s 6ms/step - loss: 0.0325 - accuracy: 0.0000e+00\n",
      "Epoch 45/200\n",
      "2/2 [==============================] - 0s 5ms/step - loss: 0.0310 - accuracy: 0.0000e+00\n",
      "Epoch 46/200\n",
      "2/2 [==============================] - 0s 5ms/step - loss: 0.0297 - accuracy: 0.0000e+00\n",
      "Epoch 47/200\n",
      "2/2 [==============================] - 0s 5ms/step - loss: 0.0337 - accuracy: 0.0000e+00\n",
      "Epoch 48/200\n",
      "2/2 [==============================] - 0s 5ms/step - loss: 0.0307 - accuracy: 0.0000e+00\n",
      "Epoch 49/200\n",
      "2/2 [==============================] - 0s 5ms/step - loss: 0.0290 - accuracy: 0.0000e+00\n",
      "Epoch 50/200\n",
      "2/2 [==============================] - 0s 5ms/step - loss: 0.0286 - accuracy: 0.0000e+00\n",
      "Epoch 51/200\n",
      "2/2 [==============================] - 0s 6ms/step - loss: 0.0267 - accuracy: 0.0000e+00\n",
      "Epoch 52/200\n",
      "2/2 [==============================] - 0s 6ms/step - loss: 0.0248 - accuracy: 0.0000e+00\n",
      "Epoch 53/200\n",
      "2/2 [==============================] - 0s 6ms/step - loss: 0.0234 - accuracy: 0.0000e+00\n",
      "Epoch 54/200\n",
      "2/2 [==============================] - 0s 5ms/step - loss: 0.0212 - accuracy: 0.0000e+00\n",
      "Epoch 55/200\n",
      "2/2 [==============================] - 0s 5ms/step - loss: 0.0200 - accuracy: 0.0000e+00\n",
      "Epoch 56/200\n",
      "2/2 [==============================] - 0s 5ms/step - loss: 0.0185 - accuracy: 0.0000e+00\n",
      "Epoch 57/200\n",
      "2/2 [==============================] - 0s 5ms/step - loss: 0.0186 - accuracy: 0.0000e+00\n",
      "Epoch 58/200\n",
      "2/2 [==============================] - 0s 5ms/step - loss: 0.0205 - accuracy: 0.0000e+00\n",
      "Epoch 59/200\n",
      "2/2 [==============================] - 0s 5ms/step - loss: 0.0166 - accuracy: 0.0000e+00\n",
      "Epoch 60/200\n",
      "2/2 [==============================] - 0s 5ms/step - loss: 0.0172 - accuracy: 0.0000e+00\n",
      "Epoch 61/200\n",
      "2/2 [==============================] - 0s 6ms/step - loss: 0.0158 - accuracy: 0.0000e+00\n",
      "Epoch 62/200\n",
      "2/2 [==============================] - 0s 4ms/step - loss: 0.0171 - accuracy: 0.0000e+00\n",
      "Epoch 63/200\n",
      "2/2 [==============================] - 0s 6ms/step - loss: 0.0165 - accuracy: 0.0000e+00\n",
      "Epoch 64/200\n",
      "2/2 [==============================] - 0s 4ms/step - loss: 0.0163 - accuracy: 0.0000e+00\n",
      "Epoch 65/200\n",
      "2/2 [==============================] - 0s 5ms/step - loss: 0.0148 - accuracy: 0.0000e+00\n",
      "Epoch 66/200\n",
      "2/2 [==============================] - 0s 5ms/step - loss: 0.0166 - accuracy: 0.0000e+00\n",
      "Epoch 67/200\n",
      "2/2 [==============================] - 0s 6ms/step - loss: 0.0174 - accuracy: 0.0000e+00\n",
      "Epoch 68/200\n",
      "2/2 [==============================] - 0s 6ms/step - loss: 0.0178 - accuracy: 0.0000e+00\n",
      "Epoch 69/200\n",
      "2/2 [==============================] - 0s 6ms/step - loss: 0.0163 - accuracy: 0.0000e+00\n",
      "Epoch 70/200\n",
      "2/2 [==============================] - 0s 5ms/step - loss: 0.0143 - accuracy: 0.0000e+00\n",
      "Epoch 71/200\n",
      "2/2 [==============================] - 0s 5ms/step - loss: 0.0127 - accuracy: 0.0000e+00\n",
      "Epoch 72/200\n",
      "2/2 [==============================] - 0s 5ms/step - loss: 0.0144 - accuracy: 0.0000e+00\n",
      "Epoch 73/200\n",
      "2/2 [==============================] - 0s 5ms/step - loss: 0.0156 - accuracy: 0.0000e+00\n",
      "Epoch 74/200\n",
      "2/2 [==============================] - 0s 6ms/step - loss: 0.0134 - accuracy: 0.0000e+00\n",
      "Epoch 75/200\n",
      "2/2 [==============================] - 0s 5ms/step - loss: 0.0237 - accuracy: 0.0000e+00\n",
      "Epoch 76/200\n",
      "2/2 [==============================] - 0s 5ms/step - loss: 0.0130 - accuracy: 0.0000e+00\n",
      "Epoch 77/200\n",
      "2/2 [==============================] - 0s 5ms/step - loss: 0.0135 - accuracy: 0.0000e+00\n",
      "Epoch 78/200\n",
      "2/2 [==============================] - 0s 6ms/step - loss: 0.0145 - accuracy: 0.0000e+00\n",
      "Epoch 79/200\n",
      "2/2 [==============================] - 0s 5ms/step - loss: 0.0135 - accuracy: 0.0000e+00\n",
      "Epoch 80/200\n",
      "2/2 [==============================] - 0s 5ms/step - loss: 0.0144 - accuracy: 0.0000e+00\n",
      "Epoch 81/200\n",
      "2/2 [==============================] - 0s 5ms/step - loss: 0.0128 - accuracy: 0.0000e+00\n",
      "Epoch 82/200\n",
      "2/2 [==============================] - 0s 5ms/step - loss: 0.0145 - accuracy: 0.0000e+00\n",
      "Epoch 83/200\n",
      "2/2 [==============================] - 0s 4ms/step - loss: 0.0136 - accuracy: 0.0000e+00\n",
      "Epoch 84/200\n",
      "2/2 [==============================] - 0s 4ms/step - loss: 0.0158 - accuracy: 0.0000e+00\n",
      "Epoch 85/200\n",
      "2/2 [==============================] - 0s 5ms/step - loss: 0.0107 - accuracy: 0.0000e+00\n",
      "Epoch 86/200\n",
      "2/2 [==============================] - 0s 5ms/step - loss: 0.0126 - accuracy: 0.0000e+00\n",
      "Epoch 87/200\n",
      "2/2 [==============================] - 0s 5ms/step - loss: 0.0113 - accuracy: 0.0000e+00\n",
      "Epoch 88/200\n",
      "2/2 [==============================] - 0s 5ms/step - loss: 0.0093 - accuracy: 0.0000e+00\n",
      "Epoch 89/200\n",
      "2/2 [==============================] - 0s 5ms/step - loss: 0.0094 - accuracy: 0.0000e+00\n",
      "Epoch 90/200\n",
      "2/2 [==============================] - 0s 5ms/step - loss: 0.0100 - accuracy: 0.0000e+00\n",
      "Epoch 91/200\n",
      "2/2 [==============================] - 0s 5ms/step - loss: 0.0099 - accuracy: 0.0000e+00\n",
      "Epoch 92/200\n",
      "2/2 [==============================] - 0s 6ms/step - loss: 0.0096 - accuracy: 0.0000e+00\n",
      "Epoch 93/200\n",
      "2/2 [==============================] - 0s 6ms/step - loss: 0.0091 - accuracy: 0.0000e+00\n",
      "Epoch 94/200\n",
      "2/2 [==============================] - 0s 5ms/step - loss: 0.0096 - accuracy: 0.0000e+00\n",
      "Epoch 95/200\n",
      "2/2 [==============================] - 0s 5ms/step - loss: 0.0086 - accuracy: 0.0000e+00\n",
      "Epoch 96/200\n",
      "2/2 [==============================] - 0s 6ms/step - loss: 0.0080 - accuracy: 0.0000e+00\n",
      "Epoch 97/200\n",
      "2/2 [==============================] - 0s 5ms/step - loss: 0.0088 - accuracy: 0.0000e+00\n",
      "Epoch 98/200\n",
      "2/2 [==============================] - 0s 5ms/step - loss: 0.0080 - accuracy: 0.0000e+00\n",
      "Epoch 99/200\n",
      "2/2 [==============================] - 0s 5ms/step - loss: 0.0076 - accuracy: 0.0000e+00\n",
      "Epoch 100/200\n",
      "2/2 [==============================] - 0s 5ms/step - loss: 0.0082 - accuracy: 0.0000e+00\n",
      "Epoch 101/200\n",
      "2/2 [==============================] - 0s 6ms/step - loss: 0.0073 - accuracy: 0.0000e+00\n",
      "Epoch 102/200\n",
      "2/2 [==============================] - 0s 7ms/step - loss: 0.0069 - accuracy: 0.0000e+00\n",
      "Epoch 103/200\n",
      "2/2 [==============================] - 0s 5ms/step - loss: 0.0077 - accuracy: 0.0000e+00\n",
      "Epoch 104/200\n",
      "2/2 [==============================] - 0s 5ms/step - loss: 0.0076 - accuracy: 0.0000e+00\n",
      "Epoch 105/200\n",
      "2/2 [==============================] - 0s 5ms/step - loss: 0.0075 - accuracy: 0.0000e+00\n",
      "Epoch 106/200\n",
      "2/2 [==============================] - 0s 4ms/step - loss: 0.0072 - accuracy: 0.0000e+00\n",
      "Epoch 107/200\n",
      "2/2 [==============================] - 0s 6ms/step - loss: 0.0071 - accuracy: 0.0000e+00\n",
      "Epoch 108/200\n",
      "2/2 [==============================] - 0s 5ms/step - loss: 0.0086 - accuracy: 0.0000e+00\n",
      "Epoch 109/200\n",
      "2/2 [==============================] - 0s 5ms/step - loss: 0.0090 - accuracy: 0.0000e+00\n",
      "Epoch 110/200\n",
      "2/2 [==============================] - 0s 6ms/step - loss: 0.0088 - accuracy: 0.0000e+00\n",
      "Epoch 111/200\n",
      "2/2 [==============================] - 0s 5ms/step - loss: 0.0067 - accuracy: 0.0000e+00\n",
      "Epoch 112/200\n",
      "2/2 [==============================] - 0s 5ms/step - loss: 0.0059 - accuracy: 0.0000e+00\n",
      "Epoch 113/200\n",
      "2/2 [==============================] - 0s 5ms/step - loss: 0.0066 - accuracy: 0.0000e+00\n",
      "Epoch 114/200\n",
      "2/2 [==============================] - 0s 5ms/step - loss: 0.0065 - accuracy: 0.0000e+00\n",
      "Epoch 115/200\n",
      "2/2 [==============================] - 0s 5ms/step - loss: 0.0059 - accuracy: 0.0000e+00\n",
      "Epoch 116/200\n",
      "2/2 [==============================] - 0s 5ms/step - loss: 0.0058 - accuracy: 0.0000e+00\n",
      "Epoch 117/200\n",
      "2/2 [==============================] - 0s 6ms/step - loss: 0.0069 - accuracy: 0.0000e+00\n",
      "Epoch 118/200\n",
      "2/2 [==============================] - 0s 5ms/step - loss: 0.0091 - accuracy: 0.0000e+00\n",
      "Epoch 119/200\n",
      "2/2 [==============================] - 0s 5ms/step - loss: 0.0069 - accuracy: 0.0000e+00\n",
      "Epoch 120/200\n",
      "2/2 [==============================] - 0s 6ms/step - loss: 0.0087 - accuracy: 0.0000e+00\n",
      "Epoch 121/200\n",
      "2/2 [==============================] - 0s 5ms/step - loss: 0.0105 - accuracy: 0.0000e+00\n",
      "Epoch 122/200\n",
      "2/2 [==============================] - 0s 6ms/step - loss: 0.0089 - accuracy: 0.0000e+00\n",
      "Epoch 123/200\n",
      "2/2 [==============================] - 0s 5ms/step - loss: 0.0113 - accuracy: 0.0000e+00\n",
      "Epoch 124/200\n",
      "2/2 [==============================] - 0s 6ms/step - loss: 0.0197 - accuracy: 0.0000e+00\n",
      "Epoch 125/200\n",
      "2/2 [==============================] - 0s 6ms/step - loss: 0.0071 - accuracy: 0.0000e+00\n",
      "Epoch 126/200\n",
      "2/2 [==============================] - 0s 5ms/step - loss: 0.0062 - accuracy: 0.0000e+00\n",
      "Epoch 127/200\n",
      "2/2 [==============================] - 0s 6ms/step - loss: 0.0126 - accuracy: 0.0000e+00\n",
      "Epoch 128/200\n",
      "2/2 [==============================] - 0s 5ms/step - loss: 0.0108 - accuracy: 0.0000e+00\n",
      "Epoch 129/200\n",
      "2/2 [==============================] - 0s 7ms/step - loss: 0.0111 - accuracy: 0.0000e+00\n",
      "Epoch 130/200\n",
      "2/2 [==============================] - 0s 6ms/step - loss: 0.0130 - accuracy: 0.0000e+00\n",
      "Epoch 131/200\n",
      "2/2 [==============================] - 0s 6ms/step - loss: 0.0098 - accuracy: 0.0000e+00\n",
      "Epoch 132/200\n",
      "2/2 [==============================] - 0s 6ms/step - loss: 0.0058 - accuracy: 0.0000e+00\n",
      "Epoch 133/200\n",
      "2/2 [==============================] - 0s 5ms/step - loss: 0.0059 - accuracy: 0.0000e+00\n",
      "Epoch 134/200\n",
      "2/2 [==============================] - 0s 6ms/step - loss: 0.0090 - accuracy: 0.0000e+00\n",
      "Epoch 135/200\n",
      "2/2 [==============================] - 0s 5ms/step - loss: 0.0058 - accuracy: 0.0000e+00\n",
      "Epoch 136/200\n",
      "2/2 [==============================] - 0s 5ms/step - loss: 0.0050 - accuracy: 0.0000e+00\n",
      "Epoch 137/200\n",
      "2/2 [==============================] - 0s 5ms/step - loss: 0.0076 - accuracy: 0.0000e+00\n",
      "Epoch 138/200\n",
      "2/2 [==============================] - 0s 5ms/step - loss: 0.0102 - accuracy: 0.0000e+00\n",
      "Epoch 139/200\n",
      "2/2 [==============================] - 0s 6ms/step - loss: 0.0091 - accuracy: 0.0000e+00\n",
      "Epoch 140/200\n",
      "2/2 [==============================] - 0s 5ms/step - loss: 0.0082 - accuracy: 0.0000e+00\n",
      "Epoch 141/200\n",
      "2/2 [==============================] - 0s 5ms/step - loss: 0.0056 - accuracy: 0.0000e+00\n",
      "Epoch 142/200\n",
      "2/2 [==============================] - 0s 4ms/step - loss: 0.0068 - accuracy: 0.0000e+00\n",
      "Epoch 143/200\n",
      "2/2 [==============================] - 0s 6ms/step - loss: 0.0176 - accuracy: 0.0000e+00\n",
      "Epoch 144/200\n",
      "2/2 [==============================] - 0s 5ms/step - loss: 0.0122 - accuracy: 0.0000e+00\n",
      "Epoch 145/200\n",
      "2/2 [==============================] - 0s 5ms/step - loss: 0.0058 - accuracy: 0.0000e+00\n",
      "Epoch 146/200\n",
      "2/2 [==============================] - 0s 5ms/step - loss: 0.0049 - accuracy: 0.0000e+00\n",
      "Epoch 147/200\n",
      "2/2 [==============================] - 0s 5ms/step - loss: 0.0185 - accuracy: 0.0000e+00\n",
      "Epoch 148/200\n",
      "2/2 [==============================] - 0s 5ms/step - loss: 0.0093 - accuracy: 0.0000e+00\n",
      "Epoch 149/200\n",
      "2/2 [==============================] - 0s 5ms/step - loss: 0.0084 - accuracy: 0.0000e+00\n",
      "Epoch 150/200\n",
      "2/2 [==============================] - 0s 6ms/step - loss: 0.0087 - accuracy: 0.0000e+00\n",
      "Epoch 151/200\n",
      "2/2 [==============================] - 0s 5ms/step - loss: 0.0057 - accuracy: 0.0000e+00\n",
      "Epoch 152/200\n",
      "2/2 [==============================] - 0s 5ms/step - loss: 0.0067 - accuracy: 0.0000e+00\n",
      "Epoch 153/200\n",
      "2/2 [==============================] - 0s 5ms/step - loss: 0.0046 - accuracy: 0.0000e+00\n",
      "Epoch 154/200\n",
      "2/2 [==============================] - 0s 5ms/step - loss: 0.0133 - accuracy: 0.0000e+00\n",
      "Epoch 155/200\n",
      "2/2 [==============================] - 0s 5ms/step - loss: 0.0161 - accuracy: 0.0000e+00\n",
      "Epoch 156/200\n",
      "2/2 [==============================] - 0s 5ms/step - loss: 0.0060 - accuracy: 0.0000e+00\n",
      "Epoch 157/200\n",
      "2/2 [==============================] - 0s 5ms/step - loss: 0.0056 - accuracy: 0.0000e+00\n",
      "Epoch 158/200\n",
      "2/2 [==============================] - 0s 5ms/step - loss: 0.0100 - accuracy: 0.0000e+00\n",
      "Epoch 159/200\n",
      "2/2 [==============================] - 0s 6ms/step - loss: 0.0127 - accuracy: 0.0000e+00\n",
      "Epoch 160/200\n",
      "2/2 [==============================] - 0s 6ms/step - loss: 0.0060 - accuracy: 0.0000e+00\n",
      "Epoch 161/200\n",
      "2/2 [==============================] - 0s 6ms/step - loss: 0.0057 - accuracy: 0.0000e+00\n",
      "Epoch 162/200\n",
      "2/2 [==============================] - 0s 6ms/step - loss: 0.0042 - accuracy: 0.0000e+00\n",
      "Epoch 163/200\n",
      "2/2 [==============================] - 0s 5ms/step - loss: 0.0047 - accuracy: 0.0000e+00\n",
      "Epoch 164/200\n",
      "2/2 [==============================] - 0s 5ms/step - loss: 0.0076 - accuracy: 0.0000e+00\n",
      "Epoch 165/200\n",
      "2/2 [==============================] - 0s 6ms/step - loss: 0.0056 - accuracy: 0.0000e+00\n",
      "Epoch 166/200\n",
      "2/2 [==============================] - 0s 5ms/step - loss: 0.0087 - accuracy: 0.0000e+00\n",
      "Epoch 167/200\n",
      "2/2 [==============================] - 0s 5ms/step - loss: 0.0063 - accuracy: 0.0000e+00\n",
      "Epoch 168/200\n",
      "2/2 [==============================] - 0s 5ms/step - loss: 0.0045 - accuracy: 0.0000e+00\n",
      "Epoch 169/200\n",
      "2/2 [==============================] - 0s 5ms/step - loss: 0.0062 - accuracy: 0.0000e+00\n",
      "Epoch 170/200\n",
      "2/2 [==============================] - 0s 5ms/step - loss: 0.0081 - accuracy: 0.0000e+00\n",
      "Epoch 171/200\n",
      "2/2 [==============================] - 0s 5ms/step - loss: 0.0051 - accuracy: 0.0000e+00\n",
      "Epoch 172/200\n",
      "2/2 [==============================] - 0s 5ms/step - loss: 0.0039 - accuracy: 0.0000e+00\n",
      "Epoch 173/200\n",
      "2/2 [==============================] - 0s 5ms/step - loss: 0.0041 - accuracy: 0.0000e+00\n",
      "Epoch 174/200\n",
      "2/2 [==============================] - 0s 5ms/step - loss: 0.0042 - accuracy: 0.0000e+00\n",
      "Epoch 175/200\n",
      "2/2 [==============================] - 0s 5ms/step - loss: 0.0050 - accuracy: 0.0000e+00\n",
      "Epoch 176/200\n",
      "2/2 [==============================] - 0s 5ms/step - loss: 0.0041 - accuracy: 0.0000e+00\n",
      "Epoch 177/200\n",
      "2/2 [==============================] - 0s 6ms/step - loss: 0.0054 - accuracy: 0.0000e+00\n",
      "Epoch 178/200\n",
      "2/2 [==============================] - 0s 5ms/step - loss: 0.0048 - accuracy: 0.0000e+00\n",
      "Epoch 179/200\n",
      "2/2 [==============================] - 0s 5ms/step - loss: 0.0041 - accuracy: 0.0000e+00\n",
      "Epoch 180/200\n",
      "2/2 [==============================] - 0s 8ms/step - loss: 0.0118 - accuracy: 0.0000e+00\n",
      "Epoch 181/200\n",
      "2/2 [==============================] - 0s 5ms/step - loss: 0.0148 - accuracy: 0.0000e+00\n",
      "Epoch 182/200\n",
      "2/2 [==============================] - 0s 5ms/step - loss: 0.0184 - accuracy: 0.0000e+00\n",
      "Epoch 183/200\n",
      "2/2 [==============================] - 0s 5ms/step - loss: 0.0057 - accuracy: 0.0000e+00\n",
      "Epoch 184/200\n",
      "2/2 [==============================] - 0s 5ms/step - loss: 0.0157 - accuracy: 0.0000e+00\n",
      "Epoch 185/200\n",
      "2/2 [==============================] - 0s 6ms/step - loss: 0.0249 - accuracy: 0.0000e+00\n",
      "Epoch 186/200\n",
      "2/2 [==============================] - 0s 5ms/step - loss: 0.0288 - accuracy: 0.0000e+00\n",
      "Epoch 187/200\n",
      "2/2 [==============================] - 0s 6ms/step - loss: 0.0044 - accuracy: 0.0000e+00\n",
      "Epoch 188/200\n",
      "2/2 [==============================] - 0s 5ms/step - loss: 0.0072 - accuracy: 0.0000e+00\n",
      "Epoch 189/200\n",
      "2/2 [==============================] - 0s 5ms/step - loss: 0.0102 - accuracy: 0.0000e+00\n",
      "Epoch 190/200\n",
      "2/2 [==============================] - 0s 5ms/step - loss: 0.0052 - accuracy: 0.0000e+00\n",
      "Epoch 191/200\n",
      "2/2 [==============================] - 0s 5ms/step - loss: 0.0062 - accuracy: 0.0000e+00\n",
      "Epoch 192/200\n",
      "2/2 [==============================] - 0s 5ms/step - loss: 0.0045 - accuracy: 0.0000e+00\n",
      "Epoch 193/200\n",
      "2/2 [==============================] - 0s 5ms/step - loss: 0.0058 - accuracy: 0.0000e+00\n",
      "Epoch 194/200\n",
      "2/2 [==============================] - 0s 5ms/step - loss: 0.0118 - accuracy: 0.0000e+00\n",
      "Epoch 195/200\n",
      "2/2 [==============================] - 0s 5ms/step - loss: 0.0049 - accuracy: 0.0000e+00\n",
      "Epoch 196/200\n",
      "2/2 [==============================] - 0s 6ms/step - loss: 0.0047 - accuracy: 0.0000e+00\n",
      "Epoch 197/200\n",
      "2/2 [==============================] - 0s 5ms/step - loss: 0.0060 - accuracy: 0.0000e+00\n",
      "Epoch 198/200\n",
      "2/2 [==============================] - 0s 5ms/step - loss: 0.0042 - accuracy: 0.0000e+00\n",
      "Epoch 199/200\n",
      "2/2 [==============================] - 0s 5ms/step - loss: 0.0043 - accuracy: 0.0000e+00\n",
      "Epoch 200/200\n",
      "2/2 [==============================] - 0s 5ms/step - loss: 0.0040 - accuracy: 0.0000e+00\n"
     ]
    },
    {
     "data": {
      "text/plain": [
       "<keras.callbacks.History at 0x7fbb3acb0750>"
      ]
     },
     "execution_count": 13,
     "metadata": {},
     "output_type": "execute_result"
    }
   ],
   "source": [
    "model.fit(X, y, epochs=200, verbose=1)"
   ]
  },
  {
   "cell_type": "code",
   "execution_count": 14,
   "id": "f353eedf",
   "metadata": {
    "execution": {
     "iopub.execute_input": "2022-07-06T08:04:52.678698Z",
     "iopub.status.busy": "2022-07-06T08:04:52.678289Z",
     "iopub.status.idle": "2022-07-06T08:04:52.686548Z",
     "shell.execute_reply": "2022-07-06T08:04:52.685187Z"
    },
    "papermill": {
     "duration": 0.059158,
     "end_time": "2022-07-06T08:04:52.688938",
     "exception": false,
     "start_time": "2022-07-06T08:04:52.629780",
     "status": "completed"
    },
    "tags": []
   },
   "outputs": [
    {
     "data": {
      "text/plain": [
       "array([[[ 5],\n",
       "        [11],\n",
       "        [13],\n",
       "        [17],\n",
       "        [19]]])"
      ]
     },
     "execution_count": 14,
     "metadata": {},
     "output_type": "execute_result"
    }
   ],
   "source": [
    "test_data = np.array([5, 11, 13, 17, 19])\n",
    "test_data = test_data.reshape((1, n_steps, n_features))\n",
    "test_data"
   ]
  },
  {
   "cell_type": "code",
   "execution_count": 15,
   "id": "3ff0c343",
   "metadata": {
    "execution": {
     "iopub.execute_input": "2022-07-06T08:04:52.784479Z",
     "iopub.status.busy": "2022-07-06T08:04:52.783309Z",
     "iopub.status.idle": "2022-07-06T08:04:53.087250Z",
     "shell.execute_reply": "2022-07-06T08:04:53.085845Z"
    },
    "papermill": {
     "duration": 0.35417,
     "end_time": "2022-07-06T08:04:53.089428",
     "exception": false,
     "start_time": "2022-07-06T08:04:52.735258",
     "status": "completed"
    },
    "tags": []
   },
   "outputs": [
    {
     "name": "stdout",
     "output_type": "stream",
     "text": [
      "1/1 [==============================] - 0s 265ms/step\n",
      "[[18.679724]]\n"
     ]
    }
   ],
   "source": [
    "predictNextNumber = model.predict(test_data, verbose=1)\n",
    "print(predictNextNumber)"
   ]
  },
  {
   "cell_type": "code",
   "execution_count": null,
   "id": "df66bc5c",
   "metadata": {
    "papermill": {
     "duration": 0.044349,
     "end_time": "2022-07-06T08:04:53.178577",
     "exception": false,
     "start_time": "2022-07-06T08:04:53.134228",
     "status": "completed"
    },
    "tags": []
   },
   "outputs": [],
   "source": []
  }
 ],
 "metadata": {
  "kernelspec": {
   "display_name": "Python 3",
   "language": "python",
   "name": "python3"
  },
  "language_info": {
   "codemirror_mode": {
    "name": "ipython",
    "version": 3
   },
   "file_extension": ".py",
   "mimetype": "text/x-python",
   "name": "python",
   "nbconvert_exporter": "python",
   "pygments_lexer": "ipython3",
   "version": "3.8.8"
  },
  "papermill": {
   "default_parameters": {},
   "duration": 30.684676,
   "end_time": "2022-07-06T08:04:56.788722",
   "environment_variables": {},
   "exception": null,
   "input_path": "__notebook__.ipynb",
   "output_path": "__notebook__.ipynb",
   "parameters": {},
   "start_time": "2022-07-06T08:04:26.104046",
   "version": "2.3.4" }
  
  
  
  
  
  
 },
 "nbformat": 4,
 "nbformat_minor": 5
}
